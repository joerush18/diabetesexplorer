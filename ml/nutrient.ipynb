{
  "nbformat": 4,
  "nbformat_minor": 0,
  "metadata": {
    "colab": {
      "provenance": []
    },
    "kernelspec": {
      "name": "python3",
      "display_name": "Python 3"
    },
    "language_info": {
      "name": "python"
    }
  },
  "cells": [
    {
      "cell_type": "code",
      "execution_count": 53,
      "metadata": {
        "id": "u4aZz2gyogDl"
      },
      "outputs": [],
      "source": [
        "import pandas as pd\n",
        "from sklearn.model_selection import train_test_split\n",
        "from sklearn.preprocessing import StandardScaler\n",
        "\n"
      ]
    },
    {
      "cell_type": "code",
      "source": [
        "data = pd.read_csv(\"./sample_data/nutrition.csv\")\n",
        "data['name'] = data['name'].str.split(', ')\n",
        "data = data.explode('name')\n",
        "# Reset the index\n",
        "data.reset_index(drop=True, inplace=True)"
      ],
      "metadata": {
        "id": "ywHADqUxoxW9"
      },
      "execution_count": 54,
      "outputs": []
    },
    {
      "cell_type": "code",
      "source": [
        "selected_features = ['calories', 'total_fat', 'saturated_fat', 'cholesterol', 'sodium',\n",
        "                     'protein', 'carbohydrate', 'fiber', 'sugars']\n",
        "columns_to_drop = [col for col in data.columns if col not in selected_features]\n",
        "data = data.drop(columns=columns_to_drop)\n",
        "data = data.dropna(how='all')"
      ],
      "metadata": {
        "id": "fW-bWMNc7A97"
      },
      "execution_count": 55,
      "outputs": []
    },
    {
      "cell_type": "code",
      "source": [
        "postfix_to_grams = {\n",
        "    'mg': 0.001,\n",
        "    'g': 1,\n",
        "    'mcg': 0.000001,\n",
        "}\n",
        "for column in data.columns:\n",
        "    for index, value in enumerate(data[column]):\n",
        "        if isinstance(value, str):\n",
        "            for postfix, conversion_factor in postfix_to_grams.items():\n",
        "                if postfix in value:\n",
        "                    try:\n",
        "                        # Extract the numeric part of the value and convert it to grams\n",
        "                        numeric_value = float(value.replace(postfix, '').strip())\n",
        "                        converted_value = numeric_value * conversion_factor\n",
        "                        data.at[index, column] = converted_value\n",
        "                    except ValueError:\n",
        "                        # Handle cases where the conversion fails\n",
        "                        print(f\"Error converting value: {value} in column: {column} at index: {index}\")\n"
      ],
      "metadata": {
        "id": "0ZQ_ppOv7GJu"
      },
      "execution_count": null,
      "outputs": []
    },
    {
      "cell_type": "code",
      "source": [
        "data = data.fillna(0)\n",
        "data[selected_features] = data[selected_features].apply(pd.to_numeric, errors='coerce')\n",
        "threshold_factors = {\n",
        "    'calories': 2,  # Lowering calorie intake can help with weight management\n",
        "    'total_fat': 1.5,  # Limiting fat intake can help control overall calorie and fat consumption\n",
        "    'saturated_fat': 1,  # Limiting saturated fat is recommended for heart health\n",
        "    'cholesterol': 1,  # Limiting cholesterol intake is recommended for heart health\n",
        "    'sodium': 1,  # Controlling sodium intake is important for managing blood pressure\n",
        "    'protein': 1.5,  # Adequate protein intake can help with satiety and muscle maintenance\n",
        "    'carbohydrate': 1.5,  # Monitoring carbohydrate intake is essential for blood sugar control\n",
        "    'fiber': 2,  # Increasing fiber intake can help stabilize blood sugar levels\n",
        "    'sugars': 1.5,  # Limiting added sugars is important for managing blood sugar levels\n",
        "}"
      ],
      "metadata": {
        "id": "c25jV0CHAhDe"
      },
      "execution_count": 57,
      "outputs": []
    },
    {
      "cell_type": "code",
      "source": [
        "nutrient_stats = data[selected_features].describe().loc[['mean', 'std']]"
      ],
      "metadata": {
        "id": "rcH2_1m1BAH_"
      },
      "execution_count": 58,
      "outputs": []
    },
    {
      "cell_type": "code",
      "source": [
        "thresholds = {}\n",
        "nutrient_columns = selected_features\n",
        "for nutrient in nutrient_columns:\n",
        "    threshold = nutrient_stats.loc['mean', nutrient] + threshold_factors.get(nutrient, 0) * nutrient_stats.loc['std', nutrient]\n",
        "    thresholds[nutrient] = threshold"
      ],
      "metadata": {
        "id": "66vCC_6jBZSc"
      },
      "execution_count": 59,
      "outputs": []
    },
    {
      "cell_type": "code",
      "source": [
        "data['edible_for_diabetes'] = 1\n",
        "for nutrient in nutrient_columns:\n",
        "    data['edible_for_diabetes'] &= (data[nutrient] <= thresholds[nutrient])"
      ],
      "metadata": {
        "id": "V6U-3yJ5FFX2"
      },
      "execution_count": 60,
      "outputs": []
    },
    {
      "cell_type": "code",
      "source": [
        "X = data[selected_features]\n",
        "y = data['edible_for_diabetes']"
      ],
      "metadata": {
        "id": "CQahnck5G2lB"
      },
      "execution_count": 62,
      "outputs": []
    },
    {
      "cell_type": "code",
      "source": [
        "X_train, X_test, y_train, y_test = train_test_split(X, y, test_size=0.2, random_state=42)\n"
      ],
      "metadata": {
        "id": "PW5lgPVEIcMg"
      },
      "execution_count": 63,
      "outputs": []
    },
    {
      "cell_type": "code",
      "source": [
        "scaler = StandardScaler()\n",
        "X_train_scaled = scaler.fit_transform(X_train)\n",
        "X_test_scaled = scaler.transform(X_test)"
      ],
      "metadata": {
        "id": "2rFFp-kKIgLX"
      },
      "execution_count": 64,
      "outputs": []
    },
    {
      "cell_type": "code",
      "source": [
        "from sklearn.ensemble import RandomForestClassifier\n",
        "model = RandomForestClassifier(n_estimators=100, random_state=42)\n",
        "model.fit(X_train_scaled, y_train)"
      ],
      "metadata": {
        "colab": {
          "base_uri": "https://localhost:8080/",
          "height": 75
        },
        "id": "_d1R-dcSIpik",
        "outputId": "4b9699fc-092e-42a4-c420-9cbef8a8c1e8"
      },
      "execution_count": 66,
      "outputs": [
        {
          "output_type": "execute_result",
          "data": {
            "text/plain": [
              "RandomForestClassifier(random_state=42)"
            ],
            "text/html": [
              "<style>#sk-container-id-2 {color: black;background-color: white;}#sk-container-id-2 pre{padding: 0;}#sk-container-id-2 div.sk-toggleable {background-color: white;}#sk-container-id-2 label.sk-toggleable__label {cursor: pointer;display: block;width: 100%;margin-bottom: 0;padding: 0.3em;box-sizing: border-box;text-align: center;}#sk-container-id-2 label.sk-toggleable__label-arrow:before {content: \"▸\";float: left;margin-right: 0.25em;color: #696969;}#sk-container-id-2 label.sk-toggleable__label-arrow:hover:before {color: black;}#sk-container-id-2 div.sk-estimator:hover label.sk-toggleable__label-arrow:before {color: black;}#sk-container-id-2 div.sk-toggleable__content {max-height: 0;max-width: 0;overflow: hidden;text-align: left;background-color: #f0f8ff;}#sk-container-id-2 div.sk-toggleable__content pre {margin: 0.2em;color: black;border-radius: 0.25em;background-color: #f0f8ff;}#sk-container-id-2 input.sk-toggleable__control:checked~div.sk-toggleable__content {max-height: 200px;max-width: 100%;overflow: auto;}#sk-container-id-2 input.sk-toggleable__control:checked~label.sk-toggleable__label-arrow:before {content: \"▾\";}#sk-container-id-2 div.sk-estimator input.sk-toggleable__control:checked~label.sk-toggleable__label {background-color: #d4ebff;}#sk-container-id-2 div.sk-label input.sk-toggleable__control:checked~label.sk-toggleable__label {background-color: #d4ebff;}#sk-container-id-2 input.sk-hidden--visually {border: 0;clip: rect(1px 1px 1px 1px);clip: rect(1px, 1px, 1px, 1px);height: 1px;margin: -1px;overflow: hidden;padding: 0;position: absolute;width: 1px;}#sk-container-id-2 div.sk-estimator {font-family: monospace;background-color: #f0f8ff;border: 1px dotted black;border-radius: 0.25em;box-sizing: border-box;margin-bottom: 0.5em;}#sk-container-id-2 div.sk-estimator:hover {background-color: #d4ebff;}#sk-container-id-2 div.sk-parallel-item::after {content: \"\";width: 100%;border-bottom: 1px solid gray;flex-grow: 1;}#sk-container-id-2 div.sk-label:hover label.sk-toggleable__label {background-color: #d4ebff;}#sk-container-id-2 div.sk-serial::before {content: \"\";position: absolute;border-left: 1px solid gray;box-sizing: border-box;top: 0;bottom: 0;left: 50%;z-index: 0;}#sk-container-id-2 div.sk-serial {display: flex;flex-direction: column;align-items: center;background-color: white;padding-right: 0.2em;padding-left: 0.2em;position: relative;}#sk-container-id-2 div.sk-item {position: relative;z-index: 1;}#sk-container-id-2 div.sk-parallel {display: flex;align-items: stretch;justify-content: center;background-color: white;position: relative;}#sk-container-id-2 div.sk-item::before, #sk-container-id-2 div.sk-parallel-item::before {content: \"\";position: absolute;border-left: 1px solid gray;box-sizing: border-box;top: 0;bottom: 0;left: 50%;z-index: -1;}#sk-container-id-2 div.sk-parallel-item {display: flex;flex-direction: column;z-index: 1;position: relative;background-color: white;}#sk-container-id-2 div.sk-parallel-item:first-child::after {align-self: flex-end;width: 50%;}#sk-container-id-2 div.sk-parallel-item:last-child::after {align-self: flex-start;width: 50%;}#sk-container-id-2 div.sk-parallel-item:only-child::after {width: 0;}#sk-container-id-2 div.sk-dashed-wrapped {border: 1px dashed gray;margin: 0 0.4em 0.5em 0.4em;box-sizing: border-box;padding-bottom: 0.4em;background-color: white;}#sk-container-id-2 div.sk-label label {font-family: monospace;font-weight: bold;display: inline-block;line-height: 1.2em;}#sk-container-id-2 div.sk-label-container {text-align: center;}#sk-container-id-2 div.sk-container {/* jupyter's `normalize.less` sets `[hidden] { display: none; }` but bootstrap.min.css set `[hidden] { display: none !important; }` so we also need the `!important` here to be able to override the default hidden behavior on the sphinx rendered scikit-learn.org. See: https://github.com/scikit-learn/scikit-learn/issues/21755 */display: inline-block !important;position: relative;}#sk-container-id-2 div.sk-text-repr-fallback {display: none;}</style><div id=\"sk-container-id-2\" class=\"sk-top-container\"><div class=\"sk-text-repr-fallback\"><pre>RandomForestClassifier(random_state=42)</pre><b>In a Jupyter environment, please rerun this cell to show the HTML representation or trust the notebook. <br />On GitHub, the HTML representation is unable to render, please try loading this page with nbviewer.org.</b></div><div class=\"sk-container\" hidden><div class=\"sk-item\"><div class=\"sk-estimator sk-toggleable\"><input class=\"sk-toggleable__control sk-hidden--visually\" id=\"sk-estimator-id-2\" type=\"checkbox\" checked><label for=\"sk-estimator-id-2\" class=\"sk-toggleable__label sk-toggleable__label-arrow\">RandomForestClassifier</label><div class=\"sk-toggleable__content\"><pre>RandomForestClassifier(random_state=42)</pre></div></div></div></div></div>"
            ]
          },
          "metadata": {},
          "execution_count": 66
        }
      ]
    }
  ]
}